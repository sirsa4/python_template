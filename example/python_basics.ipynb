{
 "cells": [
  {
   "cell_type": "markdown",
   "id": "0392bb72-cee1-4e56-9603-5bee70221a9b",
   "metadata": {},
   "source": [
    "# Basics in python\n",
    "\n",
    "In this notebook, we covered the following topics:\n",
    "- Variables and data types\n",
    "- Arithmetic operations\n",
    "- Conditional statements\n",
    "- Loops\n",
    "- Functions\n",
    "- Lists and dictionaries\n",
    "\n",
    "These are the building blocks of Python, and mastering them will help you in solving more complex problems.\n"
   ]
  },
  {
   "cell_type": "markdown",
   "id": "f3a3d6c1-74ba-4797-879c-67a4163ed295",
   "metadata": {},
   "source": [
    "# Introduction to Python\n",
    "\n",
    "Python is a versatile programming language that is widely used in various fields like web development, data science, automation, and more.\n",
    "\n",
    "In this notebook, we will go through the basics of Python, starting from variables, control flow, loops, and eventually functions.\n"
   ]
  },
  {
   "cell_type": "markdown",
   "id": "d0acd97d-c081-482e-808a-9c1f0f917ba0",
   "metadata": {},
   "source": [
    "## Variables and Data Types\n",
    "\n",
    "In Python, variables are used to store information. You can assign values to variables using the `=` operator. Let's explore some common data types in Python:\n",
    "- Integers (`int`)\n",
    "- Floating point numbers (`float`)\n",
    "- Strings (`str`)\n",
    "- Booleans (`bool`)\n"
   ]
  },
  {
   "cell_type": "code",
   "execution_count": 2,
   "id": "4d75e2ee-7020-41c8-8a4b-609b2a20dafc",
   "metadata": {},
   "outputs": [
    {
     "name": "stdout",
     "output_type": "stream",
     "text": [
      "Integer: 10\n",
      "Float: 3.14\n",
      "String: Hello\n",
      "Boolean: True\n"
     ]
    }
   ],
   "source": [
    "# Example of different data types\n",
    "integer_var = 10      # integer\n",
    "float_var = 3.14      # float\n",
    "string_var = \"Hello\"  # string\n",
    "bool_var = True       # boolean\n",
    "\n",
    "print(f\"Integer: {integer_var}\")\n",
    "print(f\"Float: {float_var}\")\n",
    "print(f\"String: {string_var}\")\n",
    "print(f\"Boolean: {bool_var}\")\n"
   ]
  },
  {
   "cell_type": "markdown",
   "id": "0bb30472-7d09-4b37-86e9-9d061d06a626",
   "metadata": {},
   "source": [
    "## Basic Arithmetic Operations\n",
    "\n",
    "Python supports various arithmetic operations such as addition, subtraction, multiplication, and division. Let's see some examples.\n"
   ]
  },
  {
   "cell_type": "code",
   "execution_count": 3,
   "id": "9490966c-6e21-4a4b-b23a-d68c40092ca0",
   "metadata": {},
   "outputs": [
    {
     "name": "stdout",
     "output_type": "stream",
     "text": [
      "Addition: 19\n",
      "Subtraction: 11\n",
      "Multiplication: 60\n",
      "Division: 3.75\n",
      "Floor Division: 3\n",
      "Modulus: 3\n",
      "Exponentiation: 50625\n"
     ]
    }
   ],
   "source": [
    "a = 15\n",
    "b = 4\n",
    "\n",
    "# Arithmetic operations\n",
    "print(f\"Addition: {a + b}\")\n",
    "print(f\"Subtraction: {a - b}\")\n",
    "print(f\"Multiplication: {a * b}\")\n",
    "print(f\"Division: {a / b}\")\n",
    "print(f\"Floor Division: {a // b}\")\n",
    "print(f\"Modulus: {a % b}\")\n",
    "print(f\"Exponentiation: {a ** b}\")\n"
   ]
  },
  {
   "cell_type": "markdown",
   "id": "70322ba8-a2e4-4af4-baa9-93b81559ac8a",
   "metadata": {},
   "source": [
    "## Conditional Statements\n",
    "\n",
    "Python uses `if`, `elif`, and `else` statements to make decisions based on conditions. Let's see how conditional statements work.\n"
   ]
  },
  {
   "cell_type": "code",
   "execution_count": 4,
   "id": "896154b7-203c-42e2-9d9b-1f81a6e645fd",
   "metadata": {},
   "outputs": [
    {
     "name": "stdout",
     "output_type": "stream",
     "text": [
      "You are eligible to vote.\n"
     ]
    }
   ],
   "source": [
    "age = 18\n",
    "\n",
    "if age >= 18:\n",
    "    print(\"You are eligible to vote.\")\n",
    "else:\n",
    "    print(\"You are not eligible to vote.\")\n"
   ]
  },
  {
   "cell_type": "markdown",
   "id": "de2c38d7-759f-40dc-8918-9177b06bcab0",
   "metadata": {},
   "source": [
    "## Loops in Python\n",
    "\n",
    "Loops are used to repeat a block of code multiple times. Python has two types of loops:\n",
    "- `for` loop\n",
    "- `while` loop\n"
   ]
  },
  {
   "cell_type": "code",
   "execution_count": 5,
   "id": "fc785063-9289-497d-86c5-faa4376c2707",
   "metadata": {},
   "outputs": [
    {
     "name": "stdout",
     "output_type": "stream",
     "text": [
      "Iteration 0\n",
      "Iteration 1\n",
      "Iteration 2\n",
      "Iteration 3\n",
      "Iteration 4\n",
      "Count is 0\n",
      "Count is 1\n",
      "Count is 2\n",
      "Count is 3\n",
      "Count is 4\n"
     ]
    }
   ],
   "source": [
    "# Example of a for loop\n",
    "for i in range(5):\n",
    "    print(f\"Iteration {i}\")\n",
    "\n",
    "# Example of a while loop\n",
    "count = 0\n",
    "while count < 5:\n",
    "    print(f\"Count is {count}\")\n",
    "    count += 1\n"
   ]
  },
  {
   "cell_type": "markdown",
   "id": "aba89683-c5c8-4ef3-b1db-c7e81a16e46c",
   "metadata": {},
   "source": [
    "## Lists and Loops\n",
    "\n",
    "Lists are used to store multiple items in a single variable. Let's see how we can use loops to iterate over lists.\n"
   ]
  },
  {
   "cell_type": "code",
   "execution_count": 7,
   "id": "f1f8f892-1661-42db-a718-181bfd7b4217",
   "metadata": {},
   "outputs": [
    {
     "name": "stdout",
     "output_type": "stream",
     "text": [
      "I like apple\n",
      "I like banana\n",
      "I like cherry\n"
     ]
    }
   ],
   "source": [
    "# List of items\n",
    "fruits = [\"apple\", \"banana\", \"cherry\"]\n",
    "\n",
    "# Loop through the list\n",
    "for fruit in fruits:\n",
    "    print(f\"I like {fruit}\")\n"
   ]
  },
  {
   "cell_type": "markdown",
   "id": "b52837ad-69c8-43e9-bac3-05b14c9b2dd3",
   "metadata": {},
   "source": [
    "## Functions in Python\n",
    "\n",
    "Functions allow you to organize your code into reusable blocks. You can define a function using the `def` keyword, and call it when needed.\n"
   ]
  },
  {
   "cell_type": "code",
   "execution_count": 6,
   "id": "9eed8e95-635e-4cfc-998d-a0ec67d04e12",
   "metadata": {},
   "outputs": [
    {
     "name": "stdout",
     "output_type": "stream",
     "text": [
      "Hello, Alice!\n"
     ]
    }
   ],
   "source": [
    "# Function definition\n",
    "def greet(name):\n",
    "    return f\"Hello, {name}!\"\n",
    "\n",
    "# Function call\n",
    "message = greet(\"Alice\")\n",
    "print(message)\n"
   ]
  },
  {
   "cell_type": "markdown",
   "id": "f5976ff8-9c86-4ff9-9be4-f04619fc5946",
   "metadata": {},
   "source": [
    "## Dictionaries in Python\n",
    "\n",
    "Dictionaries store data in key-value pairs. Let's create a dictionary and access its values.\n"
   ]
  },
  {
   "cell_type": "code",
   "execution_count": 8,
   "id": "bfd0ff2f-eec3-4215-855d-6009fa12428d",
   "metadata": {},
   "outputs": [
    {
     "name": "stdout",
     "output_type": "stream",
     "text": [
      "Name: John\n",
      "Age: 30\n",
      "City: New York\n"
     ]
    }
   ],
   "source": [
    "# Dictionary example\n",
    "person = {\n",
    "    \"name\": \"John\",\n",
    "    \"age\": 30,\n",
    "    \"city\": \"New York\"\n",
    "}\n",
    "\n",
    "# Accessing values\n",
    "print(f\"Name: {person['name']}\")\n",
    "print(f\"Age: {person['age']}\")\n",
    "print(f\"City: {person['city']}\")\n"
   ]
  },
  {
   "cell_type": "markdown",
   "id": "c1491028-872c-4645-bba2-3c4ede23317d",
   "metadata": {},
   "source": [
    "## Looping Through a Dictionary Using `for` Loop\n"
   ]
  },
  {
   "cell_type": "code",
   "execution_count": 9,
   "id": "64052291-0e47-4cba-a511-e4f5f41d961e",
   "metadata": {},
   "outputs": [
    {
     "name": "stdout",
     "output_type": "stream",
     "text": [
      "Looping through keys:\n",
      "name\n",
      "age\n",
      "city\n",
      "\n",
      "Looping through values:\n",
      "John\n",
      "30\n",
      "New York\n",
      "\n",
      "Looping through key-value pairs:\n",
      "name: John\n",
      "age: 30\n",
      "city: New York\n"
     ]
    }
   ],
   "source": [
    "# Dictionary example\n",
    "person = {\n",
    "    \"name\": \"John\",\n",
    "    \"age\": 30,\n",
    "    \"city\": \"New York\"\n",
    "}\n",
    "\n",
    "# Loop through keys\n",
    "print(\"Looping through keys:\")\n",
    "for key in person:\n",
    "    print(key)\n",
    "\n",
    "# Loop through values\n",
    "print(\"\\nLooping through values:\")\n",
    "for value in person.values():\n",
    "    print(value)\n",
    "\n",
    "# Loop through key-value pairs\n",
    "print(\"\\nLooping through key-value pairs:\")\n",
    "for key, value in person.items():\n",
    "    print(f\"{key}: {value}\")\n"
   ]
  },
  {
   "cell_type": "markdown",
   "id": "e62d487f-c6ec-48cb-b785-5836265e2143",
   "metadata": {},
   "source": [
    "## Looping Through a Dictionary Using `while` Loop\n"
   ]
  },
  {
   "cell_type": "code",
   "execution_count": 10,
   "id": "5117d60b-b3f1-4ff1-95ba-f6b627283ec8",
   "metadata": {},
   "outputs": [
    {
     "name": "stdout",
     "output_type": "stream",
     "text": [
      "Looping through dictionary using while loop:\n",
      "name: John\n",
      "age: 30\n",
      "city: New York\n"
     ]
    }
   ],
   "source": [
    "# Dictionary example\n",
    "person = {\n",
    "    \"name\": \"John\",\n",
    "    \"age\": 30,\n",
    "    \"city\": \"New York\"\n",
    "}\n",
    "\n",
    "# Converting the dictionary into a list of items\n",
    "items = list(person.items())\n",
    "\n",
    "# Using a while loop to iterate over the dictionary\n",
    "print(\"Looping through dictionary using while loop:\")\n",
    "i = 0\n",
    "while i < len(items):\n",
    "    key, value = items[i]\n",
    "    print(f\"{key}: {value}\")\n",
    "    i += 1\n"
   ]
  }
 ],
 "metadata": {
  "kernelspec": {
   "display_name": "Python 3 (ipykernel)",
   "language": "python",
   "name": "python3"
  },
  "language_info": {
   "codemirror_mode": {
    "name": "ipython",
    "version": 3
   },
   "file_extension": ".py",
   "mimetype": "text/x-python",
   "name": "python",
   "nbconvert_exporter": "python",
   "pygments_lexer": "ipython3",
   "version": "3.12.6"
  }
 },
 "nbformat": 4,
 "nbformat_minor": 5
}
