{
 "cells": [
  {
   "cell_type": "code",
   "execution_count": 7,
   "id": "eb5fe217-574a-40ec-8171-d8da5d6efebc",
   "metadata": {},
   "outputs": [
    {
     "data": {
      "text/html": [
       "<!DOCTYPE html>\n",
       "<html lang=\"en\">\n",
       "  <head>\n",
       "    <meta charset=\"UTF-8\" />\n",
       "    <meta http-equiv=\"X-UA-Compatible\" content=\"IE=edge\" />\n",
       "    <meta name=\"viewport\" content=\"width=device-width, initial-scale=1.0\" />\n",
       "    <title>Hello World</title>\n",
       "    <!-- Link to external CSS file -->\n",
       "    <link rel=\"stylesheet\" href=\"style.css\" />\n",
       "  </head>\n",
       "  <body>\n",
       "    <h1>Hello, World!</h1>\n",
       "    <p>Welcome to your first HTML page styled with external CSS.</p>\n",
       "  </body>\n",
       "</html>\n"
      ],
      "text/plain": [
       "<IPython.core.display.HTML object>"
      ]
     },
     "metadata": {},
     "output_type": "display_data"
    }
   ],
   "source": [
    "from IPython.display import display, HTML\n",
    "\n",
    "# Reading an HTML file and displaying it\n",
    "with open(\"index.html\", \"r\") as file:\n",
    "    html_content = file.read()\n",
    "\n",
    "display(HTML(html_content))\n"
   ]
  },
  {
   "cell_type": "code",
   "execution_count": null,
   "id": "1e791fe7-f6e2-4661-b7e8-b166b410367b",
   "metadata": {},
   "outputs": [],
   "source": []
  }
 ],
 "metadata": {
  "kernelspec": {
   "display_name": "Python 3 (ipykernel)",
   "language": "python",
   "name": "python3"
  },
  "language_info": {
   "codemirror_mode": {
    "name": "ipython",
    "version": 3
   },
   "file_extension": ".py",
   "mimetype": "text/x-python",
   "name": "python",
   "nbconvert_exporter": "python",
   "pygments_lexer": "ipython3",
   "version": "3.12.6"
  }
 },
 "nbformat": 4,
 "nbformat_minor": 5
}
